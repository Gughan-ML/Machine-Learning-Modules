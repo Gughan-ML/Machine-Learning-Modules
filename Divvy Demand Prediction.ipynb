{
 "cells": [
  {
   "cell_type": "code",
   "execution_count": 12,
   "metadata": {},
   "outputs": [],
   "source": [
    "library('sqldf')\n",
    "library(\"xgboost\")\n",
    "library(\"rpart\")\n",
    "library(\"dplyr\")\n",
    "library(\"randomForest\")\n",
    "library(\"Metrics\")\n",
    "library(\"caret\")\n",
    "library(\"repr\")"
   ]
  },
  {
   "cell_type": "markdown",
   "metadata": {},
   "source": [
    "# Reading the data"
   ]
  },
  {
   "cell_type": "code",
   "execution_count": 3,
   "metadata": {},
   "outputs": [],
   "source": [
    "q2 <- read.csv(\"C:/Users/gugha/Documents/UIC/1st_Semester/Advanced Statistics/Project/Divvy_Trips_2018_Q2.csv\")"
   ]
  },
  {
   "cell_type": "markdown",
   "metadata": {},
   "source": [
    "# Exploratory Data Analysis "
   ]
  },
  {
   "cell_type": "markdown",
   "metadata": {},
   "source": [
    "## Find Top 10 divvy stations with highest rider membership"
   ]
  },
  {
   "cell_type": "code",
   "execution_count": 4,
   "metadata": {},
   "outputs": [
    {
     "data": {
      "image/png": "[encoded data removed]",
      "text/plain": [
       "Plot with title \"Top 10 Divvy Station with high ridership\""
      ]
     },
     "metadata": {},
     "output_type": "display_data"
    }
   ],
   "source": [
    "station_agg <- setNames(aggregate(q2$trip_id,by=list(q2$to_station_name),FUN=length),c(\"Street\",\"Rides\"))\n",
    "station_agg <- station_agg[order(-station_agg$Rides),]\n",
    "#options(repr.plot.width = 1, repr.plot.height = 0.75,jupyter.plot_mimetypes = 'image/png')\n",
    "barplot(station_agg$Rides[c(1:10)],names.arg= station_agg$Street[c(1:10)],main=\"Top 10 Divvy Station with high ridership\")"
   ]
  },
  {
   "cell_type": "markdown",
   "metadata": {},
   "source": [
    "# Feature Engineering"
   ]
  },
  {
   "cell_type": "code",
   "execution_count": 7,
   "metadata": {},
   "outputs": [],
   "source": [
    "## Usertype column conversion\n",
    "tmp <- model.matrix(~q2$usertype+0)\n",
    "colnames(tmp) <- c(\"customer\",\"subscriber\")\n",
    "q2 <- q2[,!names(q2) %in% c(\"usertype\")]\n",
    "q2 <- cbind(q2,tmp)\n",
    "\n",
    "## Gender Column Conversion\n",
    "tmp <- model.matrix(~q2$gender+0)\n",
    "colnames(tmp) <- c(\"gender\",\"Female\",\"Male\")\n",
    "tmp <- tmp[,-1]\n",
    "q2 <- q2[,!names(q2) %in% c(\"gender\")]\n",
    "q2 <- cbind(q2,tmp)\n",
    "\n",
    "###Calculate age \n",
    "\n",
    "q2$Age <- 2018 - q2$birthyear \n",
    "q2$Age[is.na(q2$Age)] <- mean(q2$Age,na.rm=TRUE)\n",
    "q2$Age <- as.integer(q2$Age)\n",
    "q2$Age_Bucket <- ifelse(q2$Age<=18,\"18yrs\",ifelse(q2$Age>18 & q2$Age<=28,\"18_28\",ifelse(q2$Age>28 & q2$Age<=38,\"28_38\",ifelse(q2$Age>28 & q2$Age<=38,\"28_38\",ifelse(q2$Age>38 & q2$Age<=48,\"38_48\",ifelse(q2$Age>48 & q2$Age<=58,\"48_58\",\"58_More\"))))))\n",
    "tmp <- model.matrix(~q2$Age_Bucket+0)\n",
    "colnames(tmp) <- c(\"18yrs\",\"18_28\",\"28_38\",\"38_48\",\"48_58\",\"58More\")\n",
    "q2 <- q2[,!names(q2) %in% c(\"Age\")]\n",
    "q2 <- cbind(q2,tmp)\n",
    "\n",
    "## Date and Time in Hour\n",
    "q2$start_time <- as.POSIXct(q2$start_time)\n",
    "q2$week_day <- weekdays(q2$start_time)\n",
    "q2$date <- unlist(lapply(q2$start_time,FUN = function(x)(substr(as.character(x),1,10))))\n",
    "q2$time_stamp <- unlist(lapply(q2$start_time,FUN = function(x)(substr(as.character(x),12,13))))\n",
    "\n",
    "q2_agg<- sqldf(\"select date,from_station_name,count(1) as trips from q2 group by date,from_station_name\")"
   ]
  },
  {
   "cell_type": "markdown",
   "metadata": {},
   "source": [
    "# Calculating Incoming Trips from the source data and merging it with aggregate data "
   ]
  },
  {
   "cell_type": "code",
   "execution_count": 8,
   "metadata": {},
   "outputs": [],
   "source": [
    "inc_trips <- q2[,c(\"date\",\"to_station_name\",\"end_time\")]\n",
    "inc_trips$end_time <- as.POSIXct(inc_trips$end_time)\n",
    "inc_trips$week_day <- weekdays(inc_trips$end_time)\n",
    "inc_trips$date <- unlist(lapply(inc_trips$end_time,FUN = function(x)(substr(as.character(x),1,10))))\n",
    "inc_trips$time_stamp <- unlist(lapply(q2$end_time,FUN = function(x)(substr(as.character(x),12,13))))\n",
    "inc_trips_cnt <- sqldf(\"select date,to_station_name,count(1) as In_trips from inc_trips group by date,to_station_name\")\n",
    "colnames(inc_trips_cnt) <- c(\"date\",\"from_station_name\",\"In_trips\")\n",
    "q2_agg <- merge(q2_agg,inc_trips_cnt,all.x = TRUE,by=c(\"date\",\"from_station_name\"))\n",
    "q2_agg[is.na(q2_agg)] <- 0"
   ]
  },
  {
   "cell_type": "markdown",
   "metadata": {},
   "source": [
    "## Reading Divvy stations positional data (lat-long) and calculate the stations within 1 mile using lat-long"
   ]
  },
  {
   "cell_type": "code",
   "execution_count": null,
   "metadata": {},
   "outputs": [],
   "source": [
    "lat_long <- read.csv(\"C:/Users/gugha/Documents/UIC/1st_Semester/Advanced Statistics/Project/Divvy_Bicycle_Stations_-_All_-_Map.csv\")\n",
    "lat_long <- lat_long[names(lat_long)%in% c(\"Station.Name\",\"Latitude\",\"Longitude\")]\n",
    "lat_long <- unique(lat_long)\n",
    "colnames(lat_long) <- c(\"from_station_name\",\"lat1\",\"long1\")\n",
    "lat_long$id <- 1 \n",
    "lat_long1<- lat_long\n",
    "colnames(lat_long1) <- c(\"to_station_name\",\"lat2\",\"long2\",\"id\")\n",
    "lat_long_final <- merge(lat_long,lat_long1,by=c(\"id\"))\n",
    "distance1 <- c()\n",
    "for(i in c(1:nrow(lat_long_final))){\n",
    "  distance1 <- c(distance1,distVincentyEllipsoid(c(lat_long_final[i,'long1'],lat_long_final[i,'lat1']),c(lat_long_final[i,'long2'],lat_long_final[i,'lat2'])))\n",
    "}\n",
    "\n",
    "distance1 <- distance1/1609.344\n",
    "lat_long_final$mile <- distance1\n",
    "divvy_mile <- lat_long_final[which(lat_long_final$mile<=0.5 & lat_long_final$mile!=0),]\n",
    "divvy_mile <- aggregate(divvy_mile$id,by=list(divvy_mile$from_station_name),sum)\n",
    "colnames(divvy_mile) <- c(\"from_station_name\",'Divvy_1mile')\n",
    "\n",
    "q2_agg <- merge(q2_agg,divvy_mile,by=c(\"from_station_name\"),all.x=TRUE)"
   ]
  },
  {
   "cell_type": "markdown",
   "metadata": {},
   "source": [
    "## Merging Neighbourhood data,census data and socio economic indicators obtained from the city of chicago portal and merging it with divvy data"
   ]
  },
  {
   "cell_type": "code",
   "execution_count": null,
   "metadata": {},
   "outputs": [],
   "source": [
    "################################ Neighborhood ######################################\n",
    "neigh <- read.csv(\"Divvy_Neighbourhood.csv\")\n",
    "census <- read.csv(\"Census.csv\") \n",
    "colnames(census)[1] <- \"Neighbourhood\"\n",
    "\n",
    "q2_agg <- merge(q2_agg,neigh,by=\"from_station_name\",all.x=TRUE)\n",
    "q2_agg <- merge(q2_agg,census,by=\"Neighbourhood\",all.x=TRUE)\n",
    "\n",
    "census_eco <- read.csv(\"Census_Data_-_Selected_socioeconomic_indicators_in_Chicago__2008___2012.csv\")\n",
    "census_eco <- census_eco[,-1]\n",
    "colnames(census_eco) <- c(\"Neighbourhood\",\"Housing_Crowded\",\"Below_Poverty\",'Unemployed_Pop',\"No_Diploma\",\"under18orover64\",\"Percapita\",\"Hardship\")\n",
    "census_eco <- census_eco[,-6]\n",
    "q2_agg <- merge(q2_agg,census_eco,by=\"Neighbourhood\",all.x=TRUE)\n",
    "\n",
    "write.csv(q2_agg,\"model_data.csv\")"
   ]
  },
  {
   "cell_type": "markdown",
   "metadata": {},
   "source": [
    "# Missing Value Treatment using KNN Imputation - Here K=3 is chosen"
   ]
  },
  {
   "cell_type": "code",
   "execution_count": null,
   "metadata": {},
   "outputs": [],
   "source": [
    "final <- knnImputation(q2_agg, k=3)\n",
    "write.csv(final,\"model_data.csv\")"
   ]
  },
  {
   "cell_type": "markdown",
   "metadata": {},
   "source": [
    "# Model Building"
   ]
  },
  {
   "cell_type": "markdown",
   "metadata": {},
   "source": [
    "## Train - Test Data Split"
   ]
  },
  {
   "cell_type": "code",
   "execution_count": null,
   "metadata": {},
   "outputs": [],
   "source": [
    "Station_Level <- final %>% group_by(from_station_name)%>%summarise(mean(trips),mean(In_trips),mean(Divvy_1mile),mean(cta_rides),mean(cta_station),mean(Tot_Pop,na.rm = T),mean(Male,na.rm = T),mean(Female,na.rm = T),mean(Below_18,na.rm = T),mean(Btw_18_35,na.rm = T),mean(Btw_36_54,na.rm = T),mean(above_54,na.rm = T),mean(Housing_Crowded,na.rm=TRUE),mean(Below_Poverty,na.rm=TRUE),mean(Unemployed_Pop,na.rm=TRUE),mean(No_Diploma,na.rm = TRUE),mean(Percapita,na.rm=TRUE),mean(Hardship,na.rm=TRUE))\n",
    "colnames(Station_Level) <- c(\"from_station_name\",\"trips\",\"In_trips\",\"Divvy_1mile\",\"cta_rides\",\"cta_station\",\"Tot_Pop\",\"Male\",\"Female\",\"Below_18\",\"Btw_18_35\",\"Btw_36_54\",\"above_54\",\"Housing_Crowded\",\"Below_Poverty\",\"Unemployed_Pop\",\"No_Diploma\",\"Percapita\",\"Hardship\")\n",
    "Station_Level$Demand_B <- ifelse(Station_Level$trips<=11,\"Low\",ifelse(final$trips>11&final$trips<=29,\"Medium\",\"High\"))\n",
    "\n",
    "set.seed(123)\n",
    "nr <- nrow(Station_Level)\n",
    "\n",
    "trnIndex <- sample(1:nr , size = round(0.7*nr) , replace = FALSE)\n",
    "training_data <- Station_Level[trnIndex,]\n",
    "View(training_data)\n",
    "\n",
    "test_data <- Station_Level[-trnIndex,]\n",
    "plot_rmse <- c()"
   ]
  },
  {
   "cell_type": "markdown",
   "metadata": {},
   "source": [
    "## Linear Regression"
   ]
  },
  {
   "cell_type": "code",
   "execution_count": null,
   "metadata": {},
   "outputs": [],
   "source": [
    "linearMod <- lm(trips ~ Divvy_1mile + cta_rides + cta_station + Tot_Pop + Male + Female + Below_18\n",
    "                + Btw_18_35 + Btw_36_54 + above_54+Housing_Crowded+Below_Poverty+Unemployed_Pop\n",
    "                +No_Diploma+Percapita+Hardship, \n",
    "                data = training_data)\n",
    "\n",
    "#Residual Sum of Squares\n",
    "pred <- predict(linearMod,training_data)\n",
    "rmse(pred,training_data$trips)\n",
    "\n",
    "pred <- predict(linearMod,test_data)\n",
    "plot_rmse <- c(plot_rmse,rmse(pred,test_data$trips))"
   ]
  },
  {
   "cell_type": "markdown",
   "metadata": {},
   "source": [
    "## Random Forest"
   ]
  },
  {
   "cell_type": "code",
   "execution_count": null,
   "metadata": {},
   "outputs": [],
   "source": [
    "rf <- randomForest(trips ~ Divvy_1mile + cta_rides + cta_station + Tot_Pop + Male + Female + Below_18\n",
    "             + Btw_18_35 + Btw_36_54 + above_54+Housing_Crowded+Below_Poverty+Unemployed_Pop\n",
    "             +No_Diploma+Percapita+Hardship,data=training_data,ntrees=4)\n",
    "\n",
    "pred <- predict(rf,training_data)\n",
    "rmse(training_data$trips,pred)\n",
    "plot(rf)\n",
    "\n",
    "pred <- predict(rf,test_data)\n",
    "plot_rmse <- c(plot_rmse,rmse(pred,test_data$trips))"
   ]
  },
  {
   "cell_type": "markdown",
   "metadata": {},
   "source": [
    "## XGBoost"
   ]
  },
  {
   "cell_type": "code",
   "execution_count": null,
   "metadata": {},
   "outputs": [],
   "source": [
    "train_matrix <- as.matrix(training_data[,c(\"Divvy_1mile\",\"cta_rides\",\"cta_station\",\"Tot_Pop\",\"Male\",\"Female\",\n",
    "               \"Below_18\",\"Btw_18_35\",\"Btw_36_54\",\"above_54\",\n",
    "               \"Housing_Crowded\",\"Below_Poverty\",\"Unemployed_Pop\",\"No_Diploma\",\"Percapita\",\"Hardship\")])\n",
    "train_dep_matrix <- as.vector(training_data$trips)\n",
    "\n",
    "boosted_model <- xgboost(data=train_matrix,label=train_dep_matrix,nfold=1,nrounds=10)\n",
    "\n",
    "pred <- predict(boosted_model,train_matrix)\n",
    "rmse(pred,train_dep_matrix)\n",
    "\n",
    "test_matrix <- as.matrix(test_data[,c(\"Divvy_1mile\",\"cta_rides\",\"cta_station\",\"Tot_Pop\",\"Male\",\"Female\",\n",
    "                                           \"Below_18\",\"Btw_18_35\",\"Btw_36_54\",\"above_54\",\n",
    "                                           \"Housing_Crowded\",\"Below_Poverty\",\"Unemployed_Pop\",\"No_Diploma\",\"Percapita\",\"Hardship\")])\n",
    "test_dep_matrix <- as.vector(test_data$trips)\n",
    "pred <- predict(boosted_model,test_matrix)\n",
    "plot_rmse <- c(plot_rmse,rmse(pred,test_dep_matrix))"
   ]
  },
  {
   "cell_type": "markdown",
   "metadata": {},
   "source": [
    "# Model Performances"
   ]
  },
  {
   "cell_type": "code",
   "execution_count": 18,
   "metadata": {},
   "outputs": [
    {
     "data": {
      "image/png": "[encoded data removed]",
      "text/plain": [
       "Plot with title \"RMSE on Test Data\""
      ]
     },
     "metadata": {},
     "output_type": "display_data"
    }
   ],
   "source": [
    "barplot(plot_rmse,names.arg=c(\"Linear Reg\",\"Random Forest\",\"XGBoost\"), main= \"RMSE on Test Data\")"
   ]
  }
 ],
 "metadata": {
  "kernelspec": {
   "display_name": "R",
   "language": "R",
   "name": "ir"
  },
  "language_info": {
   "codemirror_mode": "r",
   "file_extension": ".r",
   "mimetype": "text/x-r-source",
   "name": "R",
   "pygments_lexer": "r",
   "version": "3.5.1"
  }
 },
 "nbformat": 4,
 "nbformat_minor": 2
}
