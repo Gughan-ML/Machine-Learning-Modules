{
 "cells": [
  {
   "cell_type": "code",
   "execution_count": 3,
   "metadata": {},
   "outputs": [
    {
     "name": "stderr",
     "output_type": "stream",
     "text": [
      "Warning message:\n",
      "\"package 'ggfortify' was built under R version 3.5.3\""
     ]
    }
   ],
   "source": [
    "library(ggplot2)\n",
    "library(ggfortify)\n",
    "set.seed(20)"
   ]
  },
  {
   "cell_type": "markdown",
   "metadata": {},
   "source": [
    "### Creating synthetic data with three separated data clusters"
   ]
  },
  {
   "cell_type": "code",
   "execution_count": 4,
   "metadata": {},
   "outputs": [
    {
     "data": {
      "text/html": [
       "<ol class=list-inline>\n",
       "\t<li>60</li>\n",
       "\t<li>50</li>\n",
       "</ol>\n"
      ],
      "text/latex": [
       "\\begin{enumerate*}\n",
       "\\item 60\n",
       "\\item 50\n",
       "\\end{enumerate*}\n"
      ],
      "text/markdown": [
       "1. 60\n",
       "2. 50\n",
       "\n",
       "\n"
      ],
      "text/plain": [
       "[1] 60 50"
      ]
     },
     "metadata": {},
     "output_type": "display_data"
    }
   ],
   "source": [
    "a<- as.data.frame(matrix(rnorm(1000, mean = 10, sd = 0.3), ncol = 50))\n",
    "b<- as.data.frame(matrix(rnorm(1000, mean = 30, sd = 0.3), ncol = 50))\n",
    "c<- as.data.frame(matrix(rnorm(1000, mean = 50, sd = 0.3), ncol = 50))\n",
    "\n",
    "Data <- rbind(a,b,c)\n",
    "a$output <- 1\n",
    "b$output <- 2\n",
    "c$output <- 3\n",
    "Data_w_op <- rbind(a,b,c)\n",
    "Data_w_op$output<- as.factor(Data_w_op$output)\n",
    "dim(Data)"
   ]
  },
  {
   "cell_type": "code",
   "execution_count": 5,
   "metadata": {},
   "outputs": [
    {
     "data": {
      "text/plain": [
       "Importance of components:\n",
       "                            PC1     PC2     PC3     PC4     PC5     PC6     PC7\n",
       "Standard deviation     116.4775 0.56726 0.52084 0.49463 0.46995 0.46177 0.44926\n",
       "Proportion of Variance   0.9997 0.00002 0.00002 0.00002 0.00002 0.00002 0.00001\n",
       "Cumulative Proportion    0.9997 0.99971 0.99973 0.99975 0.99976 0.99978 0.99979\n",
       "                           PC8     PC9    PC10    PC11    PC12    PC13    PC14\n",
       "Standard deviation     0.43633 0.43043 0.41897 0.40112 0.38896 0.37704 0.37156\n",
       "Proportion of Variance 0.00001 0.00001 0.00001 0.00001 0.00001 0.00001 0.00001\n",
       "Cumulative Proportion  0.99981 0.99982 0.99983 0.99985 0.99986 0.99987 0.99988\n",
       "                          PC15    PC16    PC17    PC18    PC19    PC20    PC21\n",
       "Standard deviation     0.36131 0.34865 0.34089 0.32886 0.32303 0.31576 0.30894\n",
       "Proportion of Variance 0.00001 0.00001 0.00001 0.00001 0.00001 0.00001 0.00001\n",
       "Cumulative Proportion  0.99989 0.99990 0.99990 0.99991 0.99992 0.99993 0.99993\n",
       "                          PC22    PC23    PC24   PC25   PC26   PC27   PC28\n",
       "Standard deviation     0.30313 0.28437 0.27059 0.2597 0.2521 0.2365 0.2277\n",
       "Proportion of Variance 0.00001 0.00001 0.00001 0.0000 0.0000 0.0000 0.0000\n",
       "Cumulative Proportion  0.99994 0.99995 0.99995 1.0000 1.0000 1.0000 1.0000\n",
       "                        PC29   PC30   PC31   PC32   PC33   PC34   PC35   PC36\n",
       "Standard deviation     0.212 0.2059 0.2051 0.1894 0.1877 0.1689 0.1626 0.1588\n",
       "Proportion of Variance 0.000 0.0000 0.0000 0.0000 0.0000 0.0000 0.0000 0.0000\n",
       "Cumulative Proportion  1.000 1.0000 1.0000 1.0000 1.0000 1.0000 1.0000 1.0000\n",
       "                         PC37   PC38   PC39   PC40   PC41   PC42    PC43\n",
       "Standard deviation     0.1448 0.1388 0.1342 0.1182 0.1088 0.1017 0.09589\n",
       "Proportion of Variance 0.0000 0.0000 0.0000 0.0000 0.0000 0.0000 0.00000\n",
       "Cumulative Proportion  1.0000 1.0000 1.0000 1.0000 1.0000 1.0000 1.00000\n",
       "                          PC44    PC45   PC46    PC47    PC48    PC49    PC50\n",
       "Standard deviation     0.08758 0.08306 0.0674 0.05272 0.04819 0.03794 0.02574\n",
       "Proportion of Variance 0.00000 0.00000 0.0000 0.00000 0.00000 0.00000 0.00000\n",
       "Cumulative Proportion  1.00000 1.00000 1.0000 1.00000 1.00000 1.00000 1.00000"
      ]
     },
     "metadata": {},
     "output_type": "display_data"
    }
   ],
   "source": [
    "PCAModel<- prcomp(Data)\n",
    "summary(PCAModel)"
   ]
  },
  {
   "cell_type": "code",
   "execution_count": 6,
   "metadata": {},
   "outputs": [
    {
     "data": {},
     "metadata": {},
     "output_type": "display_data"
    },
    {
     "data": {
      "image/png": "[encoded data removed]",
      "text/plain": [
       "plot without title"
      ]
     },
     "metadata": {},
     "output_type": "display_data"
    }
   ],
   "source": [
    "autoplot(prcomp(Data), data = Data_w_op, colour = 'output')"
   ]
  },
  {
   "cell_type": "markdown",
   "metadata": {},
   "source": [
    "##### KMEANS"
   ]
  },
  {
   "cell_type": "code",
   "execution_count": 8,
   "metadata": {},
   "outputs": [
    {
     "data": {
      "text/plain": [
       "K-means clustering with 3 clusters of sizes 20, 20, 20\n",
       "\n",
       "Cluster means:\n",
       "         V1        V2       V3       V4       V5       V6        V7       V8\n",
       "1  9.943671  9.948446 10.04572  9.96638 10.10315 10.00440  9.995693 10.06720\n",
       "2 49.991344 49.963006 50.08515 50.06095 49.92875 49.96642 49.978753 50.01027\n",
       "3 30.124639 29.903020 29.97789 29.91037 29.94927 30.05041 29.952037 30.01540\n",
       "        V9      V10       V11      V12       V13      V14      V15      V16\n",
       "1 10.04095 10.02637  9.955444 10.03516  9.962786 10.05815 10.03712 10.00859\n",
       "2 50.08915 49.98241 50.061005 50.02292 50.022737 49.95260 49.94100 50.06104\n",
       "3 29.99128 29.97838 29.908319 30.07846 30.035186 29.94461 29.89262 29.96206\n",
       "        V17       V18       V19       V20       V21      V22      V23       V24\n",
       "1  9.974768  9.954688  9.935087  9.926523  9.927049 10.01703 10.06290  9.990526\n",
       "2 49.819007 49.959765 50.112294 50.004259 49.859794 49.93401 49.96074 49.982564\n",
       "3 29.962077 29.962881 30.052001 29.957527 30.069177 30.03768 30.05727 29.962560\n",
       "        V25      V26       V27       V28      V29       V30       V31      V32\n",
       "1  9.997886 10.01648  9.948031  9.968096 10.05506  9.874104  9.969993 10.00949\n",
       "2 49.944005 49.93521 50.129595 50.039547 49.99253 50.069857 50.010306 50.05642\n",
       "3 29.870868 30.09140 30.046765 29.910830 29.98139 29.949340 30.047585 30.03570\n",
       "       V33       V34       V35      V36      V37      V38      V39      V40\n",
       "1 10.01085  9.910483  9.956026 10.00845 10.04308 10.00669 10.02896 10.09065\n",
       "2 49.90852 50.042389 50.205160 50.01293 50.15837 50.01977 50.03498 50.02729\n",
       "3 30.03859 29.970921 29.921145 29.99333 29.96976 29.99491 29.96242 29.97953\n",
       "       V41       V42      V43      V44       V45       V46      V47       V48\n",
       "1 10.01789  9.992677 10.07670 10.07279  9.996136  9.892845 10.02754  9.991897\n",
       "2 50.03495 50.051140 49.88358 50.03069 50.010740 49.935329 50.03688 50.049148\n",
       "3 29.93867 30.084157 29.94572 30.06194 29.938420 29.896875 30.00907 30.062496\n",
       "        V49       V50\n",
       "1  9.877729  9.945815\n",
       "2 50.006719 49.953853\n",
       "3 30.007997 30.066894\n",
       "\n",
       "Clustering vector:\n",
       " [1] 1 1 1 1 1 1 1 1 1 1 1 1 1 1 1 1 1 1 1 1 3 3 3 3 3 3 3 3 3 3 3 3 3 3 3 3 3 3\n",
       "[39] 3 3 2 2 2 2 2 2 2 2 2 2 2 2 2 2 2 2 2 2 2 2\n",
       "\n",
       "Within cluster sum of squares by cluster:\n",
       "[1] 90.39254 82.50072 81.47740\n",
       " (between_SS / total_SS = 100.0 %)\n",
       "\n",
       "Available components:\n",
       "\n",
       "[1] \"cluster\"      \"centers\"      \"totss\"        \"withinss\"     \"tot.withinss\"\n",
       "[6] \"betweenss\"    \"size\"         \"iter\"         \"ifault\"      "
      ]
     },
     "metadata": {},
     "output_type": "display_data"
    },
    {
     "data": {
      "text/plain": [
       "   \n",
       "     1  2  3\n",
       "  1 20  0  0\n",
       "  2  0  0 20\n",
       "  3  0 20  0"
      ]
     },
     "metadata": {},
     "output_type": "display_data"
    }
   ],
   "source": [
    "#total cluster = 3\n",
    "set.seed(123)\n",
    "KmeansCluster <- kmeans(Data,3)\n",
    "KmeansCluster\n",
    "\n",
    "table(KmeansCluster$cluster,Data_w_op$output)"
   ]
  },
  {
   "cell_type": "code",
   "execution_count": 9,
   "metadata": {},
   "outputs": [
    {
     "data": {
      "text/plain": [
       "K-means clustering with 4 clusters of sizes 20, 10, 20, 10\n",
       "\n",
       "Cluster means:\n",
       "         V1        V2       V3       V4       V5       V6        V7       V8\n",
       "1  9.943671  9.948446 10.04572  9.96638 10.10315 10.00440  9.995693 10.06720\n",
       "2 49.988788 50.095481 49.90657 49.90430 49.95823 49.97405 50.186702 49.87220\n",
       "3 30.124639 29.903020 29.97789 29.91037 29.94927 30.05041 29.952037 30.01540\n",
       "4 49.993899 49.830532 50.26374 50.21760 49.89927 49.95879 49.770804 50.14835\n",
       "        V9      V10       V11      V12       V13      V14      V15      V16\n",
       "1 10.04095 10.02637  9.955444 10.03516  9.962786 10.05815 10.03712 10.00859\n",
       "2 50.20015 49.98253 49.983692 50.05417 50.122034 50.07604 50.01801 50.07634\n",
       "3 29.99128 29.97838 29.908319 30.07846 30.035186 29.94461 29.89262 29.96206\n",
       "4 49.97816 49.98229 50.138318 49.99167 49.923440 49.82917 49.86398 50.04575\n",
       "        V17       V18       V19       V20       V21      V22      V23       V24\n",
       "1  9.974768  9.954688  9.935087  9.926523  9.927049 10.01703 10.06290  9.990526\n",
       "2 49.876245 49.869759 50.065337 50.151156 49.997611 49.78671 50.07048 50.009131\n",
       "3 29.962077 29.962881 30.052001 29.957527 30.069177 30.03768 30.05727 29.962560\n",
       "4 49.761770 50.049772 50.159251 49.857363 49.721977 50.08131 49.85100 49.955996\n",
       "        V25      V26       V27       V28      V29       V30       V31      V32\n",
       "1  9.997886 10.01648  9.948031  9.968096 10.05506  9.874104  9.969993 10.00949\n",
       "2 49.965433 50.04863 50.012455 49.960670 49.94132 49.963424 49.984424 50.21312\n",
       "3 29.870868 30.09140 30.046765 29.910830 29.98139 29.949340 30.047585 30.03570\n",
       "4 49.922577 49.82179 50.246735 50.118423 50.04375 50.176290 50.036189 49.89972\n",
       "       V33       V34       V35      V36      V37      V38      V39      V40\n",
       "1 10.01085  9.910483  9.956026 10.00845 10.04308 10.00669 10.02896 10.09065\n",
       "2 49.82142 49.937631 50.210031 49.80568 49.98564 50.11515 50.05806 49.97692\n",
       "3 30.03859 29.970921 29.921145 29.99333 29.96976 29.99491 29.96242 29.97953\n",
       "4 49.99562 50.147146 50.200289 50.22018 50.33110 49.92438 50.01189 50.07766\n",
       "       V41       V42      V43      V44       V45       V46      V47       V48\n",
       "1 10.01789  9.992677 10.07670 10.07279  9.996136  9.892845 10.02754  9.991897\n",
       "2 49.99309 50.019592 50.00013 50.01302 50.086734 50.040240 50.11915 50.028099\n",
       "3 29.93867 30.084157 29.94572 30.06194 29.938420 29.896875 30.00907 30.062496\n",
       "4 50.07682 50.082689 49.76703 50.04836 49.934747 49.830418 49.95461 50.070197\n",
       "        V49       V50\n",
       "1  9.877729  9.945815\n",
       "2 50.098522 49.978692\n",
       "3 30.007997 30.066894\n",
       "4 49.914916 49.929014\n",
       "\n",
       "Clustering vector:\n",
       " [1] 1 1 1 1 1 1 1 1 1 1 1 1 1 1 1 1 1 1 1 1 3 3 3 3 3 3 3 3 3 3 3 3 3 3 3 3 3 3\n",
       "[39] 3 3 4 4 2 4 4 4 2 4 2 2 4 2 2 4 2 4 2 2 2 4\n",
       "\n",
       "Within cluster sum of squares by cluster:\n",
       "[1] 90.39254 35.07775 81.47740 37.38246\n",
       " (between_SS / total_SS = 100.0 %)\n",
       "\n",
       "Available components:\n",
       "\n",
       "[1] \"cluster\"      \"centers\"      \"totss\"        \"withinss\"     \"tot.withinss\"\n",
       "[6] \"betweenss\"    \"size\"         \"iter\"         \"ifault\"      "
      ]
     },
     "metadata": {},
     "output_type": "display_data"
    },
    {
     "data": {
      "text/plain": [
       "   \n",
       "     1  2  3\n",
       "  1 20  0  0\n",
       "  2  0  0 10\n",
       "  3  0 20  0\n",
       "  4  0  0 10"
      ]
     },
     "metadata": {},
     "output_type": "display_data"
    }
   ],
   "source": [
    "#total cluster = 4\n",
    "set.seed(123)\n",
    "KmeansCluster2 <- kmeans(Data,4)\n",
    "KmeansCluster2\n",
    "\n",
    "table(KmeansCluster2$cluster,Data_w_op$output)"
   ]
  },
  {
   "cell_type": "code",
   "execution_count": 10,
   "metadata": {},
   "outputs": [
    {
     "data": {
      "text/plain": [
       "K-means clustering with 2 clusters of sizes 40, 20\n",
       "\n",
       "Cluster means:\n",
       "        V1       V2       V3       V4       V5       V6       V7       V8\n",
       "1 20.03415 19.92573 20.01180 19.93838 20.02621 20.02741 19.97387 20.04130\n",
       "2 49.99134 49.96301 50.08515 50.06095 49.92875 49.96642 49.97875 50.01027\n",
       "        V9      V10      V11      V12      V13      V14      V15      V16\n",
       "1 20.01612 20.00238 19.93188 20.05681 19.99899 20.00138 19.96487 19.98533\n",
       "2 50.08915 49.98241 50.06101 50.02292 50.02274 49.95260 49.94100 50.06104\n",
       "       V17      V18      V19      V20      V21      V22      V23      V24\n",
       "1 19.96842 19.95878 19.99354 19.94203 19.99811 20.02735 20.06008 19.97654\n",
       "2 49.81901 49.95977 50.11229 50.00426 49.85979 49.93401 49.96074 49.98256\n",
       "       V25      V26      V27      V28      V29      V30      V31      V32\n",
       "1 19.93438 20.05394 19.99740 19.93946 20.01823 19.91172 20.00879 20.02259\n",
       "2 49.94401 49.93521 50.12959 50.03955 49.99253 50.06986 50.01031 50.05642\n",
       "       V33      V34      V35      V36      V37      V38      V39      V40\n",
       "1 20.02472 19.94070 19.93859 20.00089 20.00642 20.00080 19.99569 20.03509\n",
       "2 49.90852 50.04239 50.20516 50.01293 50.15837 50.01977 50.03498 50.02729\n",
       "       V41      V42      V43      V44      V45      V46      V47      V48\n",
       "1 19.97828 20.03842 20.01121 20.06736 19.96728 19.89486 20.01831 20.02720\n",
       "2 50.03495 50.05114 49.88358 50.03069 50.01074 49.93533 50.03688 50.04915\n",
       "       V49      V50\n",
       "1 19.94286 20.00635\n",
       "2 50.00672 49.95385\n",
       "\n",
       "Clustering vector:\n",
       " [1] 1 1 1 1 1 1 1 1 1 1 1 1 1 1 1 1 1 1 1 1 1 1 1 1 1 1 1 1 1 1 1 1 1 1 1 1 1 1\n",
       "[39] 1 1 2 2 2 2 2 2 2 2 2 2 2 2 2 2 2 2 2 2 2 2\n",
       "\n",
       "Within cluster sum of squares by cluster:\n",
       "[1] 200070.08433     82.50072\n",
       " (between_SS / total_SS =  75.0 %)\n",
       "\n",
       "Available components:\n",
       "\n",
       "[1] \"cluster\"      \"centers\"      \"totss\"        \"withinss\"     \"tot.withinss\"\n",
       "[6] \"betweenss\"    \"size\"         \"iter\"         \"ifault\"      "
      ]
     },
     "metadata": {},
     "output_type": "display_data"
    },
    {
     "data": {
      "text/plain": [
       "   \n",
       "     1  2  3\n",
       "  1 20 20  0\n",
       "  2  0  0 20"
      ]
     },
     "metadata": {},
     "output_type": "display_data"
    }
   ],
   "source": [
    "#total cluster = 2\n",
    "set.seed(123)\n",
    "KmeansCluster3 <- kmeans(Data,2)\n",
    "KmeansCluster3\n",
    "\n",
    "table(KmeansCluster3$cluster,Data_w_op$output)"
   ]
  },
  {
   "cell_type": "markdown",
   "metadata": {},
   "source": [
    "### KMeans on PCAs"
   ]
  },
  {
   "cell_type": "code",
   "execution_count": 11,
   "metadata": {},
   "outputs": [
    {
     "data": {
      "text/html": [
       "<ol class=list-inline>\n",
       "\t<li>60</li>\n",
       "\t<li>2</li>\n",
       "</ol>\n"
      ],
      "text/latex": [
       "\\begin{enumerate*}\n",
       "\\item 60\n",
       "\\item 2\n",
       "\\end{enumerate*}\n"
      ],
      "text/markdown": [
       "1. 60\n",
       "2. 2\n",
       "\n",
       "\n"
      ],
      "text/plain": [
       "[1] 60  2"
      ]
     },
     "metadata": {},
     "output_type": "display_data"
    },
    {
     "data": {
      "text/plain": [
       "K-means clustering with 3 clusters of sizes 20, 20, 20\n",
       "\n",
       "Cluster means:\n",
       "            PC1         PC2\n",
       "1 -141.43549638  0.02341399\n",
       "2  141.48657511  0.02374474\n",
       "3   -0.05107872 -0.04715873\n",
       "\n",
       "Clustering vector:\n",
       " [1] 1 1 1 1 1 1 1 1 1 1 1 1 1 1 1 1 1 1 1 1 3 3 3 3 3 3 3 3 3 3 3 3 3 3 3 3 3 3\n",
       "[39] 3 3 2 2 2 2 2 2 2 2 2 2 2 2 2 2 2 2 2 2 2 2\n",
       "\n",
       "Within cluster sum of squares by cluster:\n",
       "[1] 8.254968 9.133039 6.448305\n",
       " (between_SS / total_SS = 100.0 %)\n",
       "\n",
       "Available components:\n",
       "\n",
       "[1] \"cluster\"      \"centers\"      \"totss\"        \"withinss\"     \"tot.withinss\"\n",
       "[6] \"betweenss\"    \"size\"         \"iter\"         \"ifault\"      "
      ]
     },
     "metadata": {},
     "output_type": "display_data"
    },
    {
     "data": {
      "text/plain": [
       "   \n",
       "     1  2  3\n",
       "  1 20  0  0\n",
       "  2  0  0 20\n",
       "  3  0 20  0"
      ]
     },
     "metadata": {},
     "output_type": "display_data"
    }
   ],
   "source": [
    "PCA_comp<- as.data.frame(PCAModel$x)\n",
    "PCA_subset <- PCA_comp[c('PC1','PC2')]\n",
    "dim(PCA_subset)\n",
    "set.seed(123)\n",
    "KmeansCluster4 <- kmeans(PCA_subset,3)\n",
    "KmeansCluster4\n",
    "table(KmeansCluster4$cluster,Data_w_op$output)"
   ]
  },
  {
   "cell_type": "markdown",
   "metadata": {},
   "source": [
    "#### Scaled K means Cluster###############"
   ]
  },
  {
   "cell_type": "code",
   "execution_count": 12,
   "metadata": {},
   "outputs": [
    {
     "data": {
      "text/plain": [
       "K-means clustering with 3 clusters of sizes 20, 20, 20\n",
       "\n",
       "Cluster means:\n",
       "         V1        V2       V3       V4       V5       V6        V7       V8\n",
       "1  9.943671  9.948446 10.04572  9.96638 10.10315 10.00440  9.995693 10.06720\n",
       "2 49.991344 49.963006 50.08515 50.06095 49.92875 49.96642 49.978753 50.01027\n",
       "3 30.124639 29.903020 29.97789 29.91037 29.94927 30.05041 29.952037 30.01540\n",
       "        V9      V10       V11      V12       V13      V14      V15      V16\n",
       "1 10.04095 10.02637  9.955444 10.03516  9.962786 10.05815 10.03712 10.00859\n",
       "2 50.08915 49.98241 50.061005 50.02292 50.022737 49.95260 49.94100 50.06104\n",
       "3 29.99128 29.97838 29.908319 30.07846 30.035186 29.94461 29.89262 29.96206\n",
       "        V17       V18       V19       V20       V21      V22      V23       V24\n",
       "1  9.974768  9.954688  9.935087  9.926523  9.927049 10.01703 10.06290  9.990526\n",
       "2 49.819007 49.959765 50.112294 50.004259 49.859794 49.93401 49.96074 49.982564\n",
       "3 29.962077 29.962881 30.052001 29.957527 30.069177 30.03768 30.05727 29.962560\n",
       "        V25      V26       V27       V28      V29       V30       V31      V32\n",
       "1  9.997886 10.01648  9.948031  9.968096 10.05506  9.874104  9.969993 10.00949\n",
       "2 49.944005 49.93521 50.129595 50.039547 49.99253 50.069857 50.010306 50.05642\n",
       "3 29.870868 30.09140 30.046765 29.910830 29.98139 29.949340 30.047585 30.03570\n",
       "       V33       V34       V35      V36      V37      V38      V39      V40\n",
       "1 10.01085  9.910483  9.956026 10.00845 10.04308 10.00669 10.02896 10.09065\n",
       "2 49.90852 50.042389 50.205160 50.01293 50.15837 50.01977 50.03498 50.02729\n",
       "3 30.03859 29.970921 29.921145 29.99333 29.96976 29.99491 29.96242 29.97953\n",
       "       V41       V42      V43      V44       V45       V46      V47       V48\n",
       "1 10.01789  9.992677 10.07670 10.07279  9.996136  9.892845 10.02754  9.991897\n",
       "2 50.03495 50.051140 49.88358 50.03069 50.010740 49.935329 50.03688 50.049148\n",
       "3 29.93867 30.084157 29.94572 30.06194 29.938420 29.896875 30.00907 30.062496\n",
       "        V49       V50\n",
       "1  9.877729  9.945815\n",
       "2 50.006719 49.953853\n",
       "3 30.007997 30.066894\n",
       "\n",
       "Clustering vector:\n",
       " [1] 1 1 1 1 1 1 1 1 1 1 1 1 1 1 1 1 1 1 1 1 3 3 3 3 3 3 3 3 3 3 3 3 3 3 3 3 3 3\n",
       "[39] 3 3 2 2 2 2 2 2 2 2 2 2 2 2 2 2 2 2 2 2 2 2\n",
       "\n",
       "Within cluster sum of squares by cluster:\n",
       "[1] 90.39254 82.50072 81.47740\n",
       " (between_SS / total_SS = 100.0 %)\n",
       "\n",
       "Available components:\n",
       "\n",
       "[1] \"cluster\"      \"centers\"      \"totss\"        \"withinss\"     \"tot.withinss\"\n",
       "[6] \"betweenss\"    \"size\"         \"iter\"         \"ifault\"      "
      ]
     },
     "metadata": {},
     "output_type": "display_data"
    },
    {
     "data": {
      "text/plain": [
       "   \n",
       "     1  2  3\n",
       "  1 20  0  0\n",
       "  2  0  0 20\n",
       "  3  0 20  0"
      ]
     },
     "metadata": {},
     "output_type": "display_data"
    }
   ],
   "source": [
    "Scaled_data <- as.data.frame(scale(Data,scale = TRUE))\n",
    "set.seed(123)\n",
    "KmeansCluster5 <- kmeans(Data,3)\n",
    "KmeansCluster5\n",
    "\n",
    "table(KmeansCluster5$cluster,Data_w_op$output)"
   ]
  }
 ],
 "metadata": {
  "kernelspec": {
   "display_name": "R",
   "language": "R",
   "name": "ir"
  },
  "language_info": {
   "codemirror_mode": "r",
   "file_extension": ".r",
   "mimetype": "text/x-r-source",
   "name": "R",
   "pygments_lexer": "r",
   "version": "3.5.1"
  }
 },
 "nbformat": 4,
 "nbformat_minor": 2
}
